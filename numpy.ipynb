{
 "cells": [
  {
   "cell_type": "markdown",
   "id": "cb9824a0-9d86-4a3d-8104-302423930ffc",
   "metadata": {},
   "source": [
    " AI sekansa hoj geldiniz.... bu saatten sonra burası numpy sekansıdır. iyi uçuşlar dilerim."
   ]
  },
  {
   "cell_type": "markdown",
   "id": "ebcc06f3-5660-4773-9629-c795763bcd8e",
   "metadata": {},
   "source": [
    "Bu Numpy nedir arkadaş. Hemen anlatalım. Açılımı numerical pyhtondan geliyor. Genelde bilimsel hesaplamalar için kullanılıyor. Matris avantajı sağlıyor."
   ]
  },
  {
   "cell_type": "markdown",
   "id": "a05b75e3-545e-4a60-a4eb-0e813ee669d6",
   "metadata": {},
   "source": [
    "\n",
    "\n",
    "\n",
    "\n",
    "\n",
    "numpy array oluşturma \n",
    "\n",
    "şunu unutmayalım ki numpy bize sabit tip bilgisini zorlar. (float format) Bunu veri saklamayı minimize etmek için yapıyor. Fakat içerisinde tek tip veri tutuyor :( \n",
    "\n",
    "\n",
    "başlamadan önce \n",
    "tek boyutlu veriler vektördür \n",
    "gerisini matris diyelim \n",
    "\n"
   ]
  },
  {
   "cell_type": "code",
   "execution_count": 20,
   "id": "3b06754e-b8a6-45c4-bbf0-721d3448e609",
   "metadata": {},
   "outputs": [
    {
     "data": {
      "text/plain": [
       "numpy.ndarray"
      ]
     },
     "execution_count": 20,
     "metadata": {},
     "output_type": "execute_result"
    }
   ],
   "source": [
    "import numpy as np \n",
    "\n",
    "b= np.array ([0,1,25,31,62,98,101,25])\n",
    "type(b)\n",
    "\n"
   ]
  },
  {
   "cell_type": "code",
   "execution_count": 24,
   "id": "a45b8563-212d-4192-9f27-bb7a5b45c83b",
   "metadata": {},
   "outputs": [
    {
     "data": {
      "text/plain": [
       "array([3.14, 1.  , 2.  , 3.  , 4.  , 5.  ])"
      ]
     },
     "execution_count": 24,
     "metadata": {},
     "output_type": "execute_result"
    }
   ],
   "source": [
    "np.array ([3.14,1,2,3,4,5]) # göründüğü üzere virgüllü sayı olduğu için floata zorladı "
   ]
  },
  {
   "cell_type": "code",
   "execution_count": 27,
   "id": "1683ad05-f6cf-439c-835a-66713408799e",
   "metadata": {},
   "outputs": [
    {
     "data": {
      "text/plain": [
       "array([3, 1, 2, 3, 4, 5])"
      ]
     },
     "execution_count": 27,
     "metadata": {},
     "output_type": "execute_result"
    }
   ],
   "source": [
    "np.array ([3.14,1,2,3,4,5],dtype = \"int\") #sihirli parmaklar dtype yazarak formatı değiştirebilirsin :D"
   ]
  },
  {
   "cell_type": "code",
   "execution_count": 44,
   "id": "c203ebef-eee7-4b2b-99bd-631115ad5c1a",
   "metadata": {},
   "outputs": [
    {
     "data": {
      "text/plain": [
       "array([0., 0., 0., 0., 0.])"
      ]
     },
     "execution_count": 44,
     "metadata": {},
     "output_type": "execute_result"
    }
   ],
   "source": [
    "# SIFIRDAN ARRAY YAPMA SEKANSI  elindeki verileri işlemek için yapabilirsin \n",
    "np.zeros (5)"
   ]
  },
  {
   "cell_type": "code",
   "execution_count": 39,
   "id": "7d6b854c-0da0-4556-b1dd-f8028428aa3c",
   "metadata": {},
   "outputs": [
    {
     "data": {
      "text/plain": [
       "array([[0., 0., 0.],\n",
       "       [0., 0., 0.]])"
      ]
     },
     "execution_count": 39,
     "metadata": {},
     "output_type": "execute_result"
    }
   ],
   "source": [
    "np.zeros ((2,3))"
   ]
  },
  {
   "cell_type": "code",
   "execution_count": 40,
   "id": "635dfb0a-0236-4ad8-acff-facf153ff9bc",
   "metadata": {},
   "outputs": [
    {
     "data": {
      "text/plain": [
       "array([[0, 0],\n",
       "       [0, 0],\n",
       "       [0, 0]])"
      ]
     },
     "execution_count": 40,
     "metadata": {},
     "output_type": "execute_result"
    }
   ],
   "source": [
    "np.zeros ((3,2), dtype = \"int\")"
   ]
  },
  {
   "cell_type": "code",
   "execution_count": 50,
   "id": "c25c46cd-80e0-46b1-b049-a68a3ab48e1e",
   "metadata": {},
   "outputs": [
    {
     "data": {
      "text/plain": [
       "array([1., 1., 1., 1., 1.])"
      ]
     },
     "execution_count": 50,
     "metadata": {},
     "output_type": "execute_result"
    }
   ],
   "source": [
    "np.ones (5)"
   ]
  },
  {
   "cell_type": "code",
   "execution_count": 51,
   "id": "dfee3310-ca54-4d16-9eb8-95f476d4e421",
   "metadata": {},
   "outputs": [
    {
     "data": {
      "text/plain": [
       "array([1, 1])"
      ]
     },
     "execution_count": 51,
     "metadata": {},
     "output_type": "execute_result"
    }
   ],
   "source": [
    "np.ones ((2), dtype = \"int\")"
   ]
  },
  {
   "cell_type": "code",
   "execution_count": 52,
   "id": "678e7120-46ba-40fd-8189-fcf508882cf2",
   "metadata": {},
   "outputs": [
    {
     "data": {
      "text/plain": [
       "array([[4, 4],\n",
       "       [4, 4]])"
      ]
     },
     "execution_count": 52,
     "metadata": {},
     "output_type": "execute_result"
    }
   ],
   "source": [
    "np.full ((2,2), 4) # istediğin ibr sayı için "
   ]
  },
  {
   "cell_type": "code",
   "execution_count": 56,
   "id": "ce93bb8a-a8b9-4c96-8a51-571dedd51ae9",
   "metadata": {},
   "outputs": [
    {
     "data": {
      "text/plain": [
       "array([ 0,  3,  6,  9, 12, 15, 18, 21, 24, 27, 30])"
      ]
     },
     "execution_count": 56,
     "metadata": {},
     "output_type": "execute_result"
    }
   ],
   "source": [
    "np.arange (0,32,3)"
   ]
  },
  {
   "cell_type": "code",
   "execution_count": 57,
   "id": "64f40387-cfcc-4c84-8036-9d4384c3525a",
   "metadata": {},
   "outputs": [
    {
     "data": {
      "text/plain": [
       "array([0.  , 0.25, 0.5 , 0.75, 1.  ])"
      ]
     },
     "execution_count": 57,
     "metadata": {},
     "output_type": "execute_result"
    }
   ],
   "source": [
    "np.linspace (0,1,5)"
   ]
  },
  {
   "cell_type": "code",
   "execution_count": 60,
   "id": "26221c2d-3aaf-42c1-b702-62d353c11ff5",
   "metadata": {},
   "outputs": [
    {
     "data": {
      "text/plain": [
       "array([[4.87319419, 3.18050633, 1.69463982],\n",
       "       [5.49565268, 6.2147743 , 1.37478514]])"
      ]
     },
     "execution_count": 60,
     "metadata": {},
     "output_type": "execute_result"
    }
   ],
   "source": [
    "np.random.normal (5,2,(2,3)) #normal dağılım fonksiyonu 5 ortalamayı ,2 ss yı temsil eder geri kalan kaça kaç matris yapmak istersen bu fonksiyon önemlidir (random)"
   ]
  },
  {
   "cell_type": "code",
   "execution_count": 62,
   "id": "bcfe3fe9-00a5-4306-9535-6ce89de1f428",
   "metadata": {},
   "outputs": [
    {
     "data": {
      "text/plain": [
       "array([[9, 8, 5, 4],\n",
       "       [2, 2, 6, 4],\n",
       "       [4, 3, 2, 1]])"
      ]
     },
     "execution_count": 62,
     "metadata": {},
     "output_type": "execute_result"
    }
   ],
   "source": [
    "np.random.randint (0,10,(3,4)) #0 dan 10 a kadar 3e 4 lük matriste karışık integerlar dağılımla ilgilenmeyenler bunu şeçebilir."
   ]
  },
  {
   "cell_type": "markdown",
   "id": "e6734377-c8b3-40fb-aec9-b82453c6b45d",
   "metadata": {},
   "source": [
    " **_TOP 3_** \n",
    " \n",
    "    random normal  \n",
    "    \n",
    "    random randint\n",
    "    \n",
    "    arange\n",
    "    \n",
    "    en babaları bunlardır. Gerisi boş "
   ]
  },
  {
   "cell_type": "code",
   "execution_count": null,
   "id": "70696170-ddcc-412c-81f2-31bc74bbd5ac",
   "metadata": {},
   "outputs": [],
   "source": []
  },
  {
   "cell_type": "markdown",
   "id": "deec7ef0-aae7-4a0b-8980-45b51a60f6a3",
   "metadata": {},
   "source": [
    "**Numpy array nesnesinin özelliklerine erişme**\n"
   ]
  },
  {
   "cell_type": "markdown",
   "id": "5993ff77-285d-45d7-a564-be4f6452e1a5",
   "metadata": {},
   "source": [
    "ndim :  boyut sayısı\n",
    "\n",
    "shape : boyut bilgisi\n",
    "\n",
    "size : total eleman sayısı\n",
    "\n",
    "dtype : array tipi"
   ]
  },
  {
   "cell_type": "code",
   "execution_count": 64,
   "id": "4e61c6af-e0bf-463f-806b-a66003fea241",
   "metadata": {},
   "outputs": [
    {
     "data": {
      "text/plain": [
       "8"
      ]
     },
     "execution_count": 64,
     "metadata": {},
     "output_type": "execute_result"
    }
   ],
   "source": [
    "np.random.randint (10)"
   ]
  },
  {
   "cell_type": "code",
   "execution_count": 69,
   "id": "684cbf11-eb25-4616-8e7f-b2236f0bc63b",
   "metadata": {},
   "outputs": [
    {
     "data": {
      "text/plain": [
       "array([0, 1, 9, 8, 6])"
      ]
     },
     "execution_count": 69,
     "metadata": {},
     "output_type": "execute_result"
    }
   ],
   "source": [
    " np.random.randint (10, size = 5)"
   ]
  },
  {
   "cell_type": "code",
   "execution_count": 70,
   "id": "271fc8bf-89e9-4227-8042-844fad50f54b",
   "metadata": {},
   "outputs": [],
   "source": [
    " a = np.random.randint (10, size = 5)"
   ]
  },
  {
   "cell_type": "code",
   "execution_count": 71,
   "id": "db255247-595b-4d1a-bd7a-721fbbb23f40",
   "metadata": {},
   "outputs": [
    {
     "data": {
      "text/plain": [
       "1"
      ]
     },
     "execution_count": 71,
     "metadata": {},
     "output_type": "execute_result"
    }
   ],
   "source": [
    "a.ndim"
   ]
  },
  {
   "cell_type": "code",
   "execution_count": 72,
   "id": "9837b277-9728-4db1-b82e-e1753fc948bc",
   "metadata": {},
   "outputs": [
    {
     "data": {
      "text/plain": [
       "(5,)"
      ]
     },
     "execution_count": 72,
     "metadata": {},
     "output_type": "execute_result"
    }
   ],
   "source": [
    "a.shape"
   ]
  },
  {
   "cell_type": "code",
   "execution_count": 74,
   "id": "d4869791-595d-4164-8914-be4ec2ae18c4",
   "metadata": {},
   "outputs": [
    {
     "data": {
      "text/plain": [
       "5"
      ]
     },
     "execution_count": 74,
     "metadata": {},
     "output_type": "execute_result"
    }
   ],
   "source": [
    "a.size"
   ]
  },
  {
   "cell_type": "code",
   "execution_count": 77,
   "id": "20f86ef5-8772-46d1-b686-71387a462928",
   "metadata": {},
   "outputs": [
    {
     "data": {
      "text/plain": [
       "dtype('int32')"
      ]
     },
     "execution_count": 77,
     "metadata": {},
     "output_type": "execute_result"
    }
   ],
   "source": [
    "a.dtype"
   ]
  },
  {
   "cell_type": "code",
   "execution_count": 78,
   "id": "2c42f08e-9384-409c-90bb-98c612bd5b35",
   "metadata": {},
   "outputs": [],
   "source": [
    "# aynısını 2 dim arraylere de yaparsın kanzi "
   ]
  },
  {
   "cell_type": "code",
   "execution_count": 80,
   "id": "60f66b87-36db-462b-bb2d-73a080783be1",
   "metadata": {},
   "outputs": [],
   "source": [
    "b = np.random.randint (10, size = (3,4))"
   ]
  },
  {
   "cell_type": "code",
   "execution_count": 81,
   "id": "1fc11ed0-63b0-4791-9eba-4b44826779cb",
   "metadata": {},
   "outputs": [
    {
     "data": {
      "text/plain": [
       "array([[4, 1, 3, 6],\n",
       "       [0, 7, 0, 3],\n",
       "       [0, 7, 9, 6]])"
      ]
     },
     "execution_count": 81,
     "metadata": {},
     "output_type": "execute_result"
    }
   ],
   "source": [
    "b"
   ]
  },
  {
   "cell_type": "code",
   "execution_count": 82,
   "id": "58d56939-df77-492a-a5b8-e9043c733a4e",
   "metadata": {},
   "outputs": [
    {
     "data": {
      "text/plain": [
       "2"
      ]
     },
     "execution_count": 82,
     "metadata": {},
     "output_type": "execute_result"
    }
   ],
   "source": [
    "b.ndim"
   ]
  },
  {
   "cell_type": "code",
   "execution_count": 83,
   "id": "18268805-6f9e-4e29-9259-f40c49cfbcf6",
   "metadata": {},
   "outputs": [
    {
     "data": {
      "text/plain": [
       "(3, 4)"
      ]
     },
     "execution_count": 83,
     "metadata": {},
     "output_type": "execute_result"
    }
   ],
   "source": [
    "b.shape"
   ]
  },
  {
   "cell_type": "code",
   "execution_count": 84,
   "id": "ebc762ab-ff9d-4d49-8069-c65ad7fa3db5",
   "metadata": {},
   "outputs": [
    {
     "data": {
      "text/plain": [
       "12"
      ]
     },
     "execution_count": 84,
     "metadata": {},
     "output_type": "execute_result"
    }
   ],
   "source": [
    "b.size"
   ]
  },
  {
   "cell_type": "code",
   "execution_count": 85,
   "id": "ea4fa086-f58a-462e-adac-59503c724907",
   "metadata": {},
   "outputs": [
    {
     "data": {
      "text/plain": [
       "dtype('int32')"
      ]
     },
     "execution_count": 85,
     "metadata": {},
     "output_type": "execute_result"
    }
   ],
   "source": [
    "b.dtype"
   ]
  },
  {
   "cell_type": "markdown",
   "id": "c0ec62b7-3062-44f1-8d21-c8666149cabf",
   "metadata": {},
   "source": [
    "**var olan arrayi reshape yapma**\n",
    "\n",
    "neden yapılır \n",
    "\n",
    "ihtiyaç halinde tek boyutu çok boyuta taşımak veya tam tersini yapmak için kullanırız."
   ]
  },
  {
   "cell_type": "code",
   "execution_count": 94,
   "id": "ac611068-5efc-4a41-a238-a37cc94747ed",
   "metadata": {},
   "outputs": [],
   "source": [
    "c=np.arange(1,10)"
   ]
  },
  {
   "cell_type": "code",
   "execution_count": 95,
   "id": "b46d4a4f-8a88-4bbe-b218-cd7d5f5bce5e",
   "metadata": {},
   "outputs": [
    {
     "data": {
      "text/plain": [
       "array([1, 2, 3, 4, 5, 6, 7, 8, 9])"
      ]
     },
     "execution_count": 95,
     "metadata": {},
     "output_type": "execute_result"
    }
   ],
   "source": [
    "c\n"
   ]
  },
  {
   "cell_type": "code",
   "execution_count": 97,
   "id": "0c3585ad-bdf0-4b2e-aed6-0e510be2bfbe",
   "metadata": {},
   "outputs": [
    {
     "data": {
      "text/plain": [
       "array([[1, 2, 3],\n",
       "       [4, 5, 6],\n",
       "       [7, 8, 9]])"
      ]
     },
     "execution_count": 97,
     "metadata": {},
     "output_type": "execute_result"
    }
   ],
   "source": [
    "c.reshape((3,3))  #  mesela yanii"
   ]
  },
  {
   "cell_type": "code",
   "execution_count": 103,
   "id": "466b14ed-e424-4a0d-ba01-f585340fa51c",
   "metadata": {},
   "outputs": [],
   "source": [
    "x= c.reshape(1,9) #burada dikkatli bakarsan bir şeylerin değiştiğini göreceksin."
   ]
  },
  {
   "cell_type": "code",
   "execution_count": 104,
   "id": "22a7553a-4a54-4fc9-b64e-af5a47cf5d6d",
   "metadata": {},
   "outputs": [
    {
     "data": {
      "text/plain": [
       "1"
      ]
     },
     "execution_count": 104,
     "metadata": {},
     "output_type": "execute_result"
    }
   ],
   "source": [
    "c.ndim\n"
   ]
  },
  {
   "cell_type": "code",
   "execution_count": 105,
   "id": "f60ed355-67d8-4178-9f6a-5546010fd1ed",
   "metadata": {},
   "outputs": [
    {
     "data": {
      "text/plain": [
       "2"
      ]
     },
     "execution_count": 105,
     "metadata": {},
     "output_type": "execute_result"
    }
   ],
   "source": [
    "x.ndim"
   ]
  },
  {
   "cell_type": "code",
   "execution_count": 107,
   "id": "bb3acba8-42f0-4431-a7b5-2dc64dd1dd15",
   "metadata": {},
   "outputs": [
    {
     "data": {
      "text/plain": [
       "array([[1, 2, 3, 4, 5, 6, 7, 8, 9]])"
      ]
     },
     "execution_count": 107,
     "metadata": {},
     "output_type": "execute_result"
    }
   ],
   "source": [
    "x # bir vektörü reshape yaparak matris formuna soktun [[ olmasının sebebi budur.\n"
   ]
  },
  {
   "cell_type": "markdown",
   "id": "6538ef61-9b8b-4fe6-8710-7bcf137dc9c7",
   "metadata": {},
   "source": [
    "**BİRLEŞTİRME (concantenation)**"
   ]
  },
  {
   "cell_type": "code",
   "execution_count": 109,
   "id": "fc71a90c-19b8-4f04-aab5-d1d2656628cd",
   "metadata": {},
   "outputs": [],
   "source": [
    "u= np.array ([1,2,3])\n",
    "y= np.array ([4,5,6])"
   ]
  },
  {
   "cell_type": "code",
   "execution_count": 111,
   "id": "f89b6db9-40a8-4a97-806f-8fb892d25296",
   "metadata": {},
   "outputs": [
    {
     "data": {
      "text/plain": [
       "array([1, 2, 3])"
      ]
     },
     "execution_count": 111,
     "metadata": {},
     "output_type": "execute_result"
    }
   ],
   "source": [
    "u"
   ]
  },
  {
   "cell_type": "code",
   "execution_count": 112,
   "id": "b3ad9c27-a473-40be-b369-4d45f5e2b97f",
   "metadata": {},
   "outputs": [
    {
     "data": {
      "text/plain": [
       "array([4, 5, 6])"
      ]
     },
     "execution_count": 112,
     "metadata": {},
     "output_type": "execute_result"
    }
   ],
   "source": [
    "y"
   ]
  },
  {
   "cell_type": "code",
   "execution_count": 117,
   "id": "4f35c47a-409a-4b59-9283-b13039925713",
   "metadata": {},
   "outputs": [
    {
     "data": {
      "text/plain": [
       "array([1, 2, 3, 4, 5, 6])"
      ]
     },
     "execution_count": 117,
     "metadata": {},
     "output_type": "execute_result"
    }
   ],
   "source": [
    "np.concatenate ( [u, y] )"
   ]
  },
  {
   "cell_type": "markdown",
   "id": "f1915663-66d0-4b20-a7a9-ac8ae7ee257c",
   "metadata": {},
   "source": [
    "**AYIRMA     (SPLİT)**"
   ]
  },
  {
   "cell_type": "code",
   "execution_count": 118,
   "id": "8a096e23-bb29-439a-be3d-f0695178bbd3",
   "metadata": {},
   "outputs": [],
   "source": [
    "x= np.array ([1,2,3,44,55,66,7,8,9])"
   ]
  },
  {
   "cell_type": "code",
   "execution_count": 119,
   "id": "69af5a34-b60c-48ca-acc6-2ae913cdd899",
   "metadata": {},
   "outputs": [
    {
     "data": {
      "text/plain": [
       "[array([1, 2, 3]), array([44, 55, 66]), array([7, 8, 9])]"
      ]
     },
     "execution_count": 119,
     "metadata": {},
     "output_type": "execute_result"
    }
   ],
   "source": [
    "np.split (x, [3,6])"
   ]
  },
  {
   "cell_type": "code",
   "execution_count": 120,
   "id": "a6b54476-2ca6-46ce-a11b-61ec041f4506",
   "metadata": {},
   "outputs": [],
   "source": [
    "a,b,c= np.split (x, [3,6])"
   ]
  },
  {
   "cell_type": "code",
   "execution_count": 121,
   "id": "31100718-8e28-4988-8bfa-5e1f500b8034",
   "metadata": {},
   "outputs": [
    {
     "data": {
      "text/plain": [
       "array([1, 2, 3])"
      ]
     },
     "execution_count": 121,
     "metadata": {},
     "output_type": "execute_result"
    }
   ],
   "source": [
    "a\n"
   ]
  },
  {
   "cell_type": "code",
   "execution_count": 122,
   "id": "0c861b0d-e187-4953-8937-59ce4b17e758",
   "metadata": {},
   "outputs": [
    {
     "data": {
      "text/plain": [
       "array([44, 55, 66])"
      ]
     },
     "execution_count": 122,
     "metadata": {},
     "output_type": "execute_result"
    }
   ],
   "source": [
    "b\n"
   ]
  },
  {
   "cell_type": "code",
   "execution_count": 123,
   "id": "65bb8e54-59e9-4b21-9463-7b5c4e46ea36",
   "metadata": {},
   "outputs": [
    {
     "data": {
      "text/plain": [
       "array([7, 8, 9])"
      ]
     },
     "execution_count": 123,
     "metadata": {},
     "output_type": "execute_result"
    }
   ],
   "source": [
    "c"
   ]
  },
  {
   "cell_type": "code",
   "execution_count": 124,
   "id": "5896b2de-0c36-4306-96c0-1329f21c6432",
   "metadata": {},
   "outputs": [],
   "source": [
    "# iki boyut sekansı "
   ]
  },
  {
   "cell_type": "code",
   "execution_count": 125,
   "id": "d35fb301-f1e2-439e-9ad5-645c4c713e40",
   "metadata": {},
   "outputs": [],
   "source": [
    "m= np.arange(16).reshape(4,4) "
   ]
  },
  {
   "cell_type": "code",
   "execution_count": 126,
   "id": "51fa23a6-a377-4cef-9a04-6553e2a129a9",
   "metadata": {},
   "outputs": [
    {
     "data": {
      "text/plain": [
       "array([[ 0,  1,  2,  3],\n",
       "       [ 4,  5,  6,  7],\n",
       "       [ 8,  9, 10, 11],\n",
       "       [12, 13, 14, 15]])"
      ]
     },
     "execution_count": 126,
     "metadata": {},
     "output_type": "execute_result"
    }
   ],
   "source": [
    "m\n"
   ]
  },
  {
   "cell_type": "code",
   "execution_count": 127,
   "id": "07271741-3b0f-49fb-9123-a0311937e7cb",
   "metadata": {},
   "outputs": [
    {
     "data": {
      "text/plain": [
       "[array([[0, 1, 2, 3],\n",
       "        [4, 5, 6, 7]]),\n",
       " array([[ 8,  9, 10, 11],\n",
       "        [12, 13, 14, 15]])]"
      ]
     },
     "execution_count": 127,
     "metadata": {},
     "output_type": "execute_result"
    }
   ],
   "source": [
    "np.vsplit(m,[2]) #   2 inci index E KADAR bölecen "
   ]
  },
  {
   "cell_type": "code",
   "execution_count": 128,
   "id": "049ad26a-8f8b-42ec-b778-7ac13b9459fe",
   "metadata": {},
   "outputs": [],
   "source": [
    "x,d = np.vsplit(m,[2])"
   ]
  },
  {
   "cell_type": "code",
   "execution_count": 129,
   "id": "18f8824c-7db6-49c8-b837-6b92510a5084",
   "metadata": {},
   "outputs": [
    {
     "data": {
      "text/plain": [
       "array([[0, 1, 2, 3],\n",
       "       [4, 5, 6, 7]])"
      ]
     },
     "execution_count": 129,
     "metadata": {},
     "output_type": "execute_result"
    }
   ],
   "source": [
    "x\n"
   ]
  },
  {
   "cell_type": "code",
   "execution_count": 130,
   "id": "933ff661-93ac-410b-93a0-b84e3ac75740",
   "metadata": {},
   "outputs": [
    {
     "data": {
      "text/plain": [
       "array([[ 8,  9, 10, 11],\n",
       "       [12, 13, 14, 15]])"
      ]
     },
     "execution_count": 130,
     "metadata": {},
     "output_type": "execute_result"
    }
   ],
   "source": [
    "d"
   ]
  },
  {
   "cell_type": "code",
   "execution_count": 134,
   "id": "b60fb2ec-c1b7-448f-b970-0fa94c21acff",
   "metadata": {},
   "outputs": [],
   "source": [
    "# vsplit hsplit buradaki mevzu yan yana koyma "
   ]
  },
  {
   "cell_type": "code",
   "execution_count": 133,
   "id": "13079c3f-2c2a-407c-b6d6-023586698886",
   "metadata": {},
   "outputs": [
    {
     "data": {
      "text/plain": [
       "[array([[ 0,  1],\n",
       "        [ 4,  5],\n",
       "        [ 8,  9],\n",
       "        [12, 13]]),\n",
       " array([[ 2,  3],\n",
       "        [ 6,  7],\n",
       "        [10, 11],\n",
       "        [14, 15]])]"
      ]
     },
     "execution_count": 133,
     "metadata": {},
     "output_type": "execute_result"
    }
   ],
   "source": [
    "np.hsplit(m,[2])"
   ]
  },
  {
   "cell_type": "markdown",
   "id": "d782ee74-5b7c-4c14-a2d2-a41f955f1bb0",
   "metadata": {},
   "source": [
    " **SIRALAMA (SORTİNG)**"
   ]
  },
  {
   "cell_type": "code",
   "execution_count": 135,
   "id": "d1d0e87b-1fab-442a-a58d-3d9dfaaaae61",
   "metadata": {},
   "outputs": [],
   "source": [
    "m=np.array ([3,5,6,1,0,31,62])"
   ]
  },
  {
   "cell_type": "code",
   "execution_count": 137,
   "id": "f78d405b-5810-40e7-92a7-98aad53f4939",
   "metadata": {},
   "outputs": [
    {
     "data": {
      "text/plain": [
       "array([ 0,  1,  3,  5,  6, 31, 62])"
      ]
     },
     "execution_count": 137,
     "metadata": {},
     "output_type": "execute_result"
    }
   ],
   "source": [
    "np.sort(m)"
   ]
  },
  {
   "cell_type": "code",
   "execution_count": 138,
   "id": "bf0b9706-ef18-45f1-85cd-d764e1c68c4b",
   "metadata": {},
   "outputs": [
    {
     "data": {
      "text/plain": [
       "array([ 3,  5,  6,  1,  0, 31, 62])"
      ]
     },
     "execution_count": 138,
     "metadata": {},
     "output_type": "execute_result"
    }
   ],
   "source": [
    "m"
   ]
  },
  {
   "cell_type": "code",
   "execution_count": 139,
   "id": "6d6f3756-a9f4-4f22-9b57-6447b0fcb1e3",
   "metadata": {},
   "outputs": [],
   "source": [
    "m.sort()"
   ]
  },
  {
   "cell_type": "code",
   "execution_count": 140,
   "id": "87fa7126-6af1-419c-8fa6-3639ebcf0eb1",
   "metadata": {},
   "outputs": [
    {
     "data": {
      "text/plain": [
       "array([ 0,  1,  3,  5,  6, 31, 62])"
      ]
     },
     "execution_count": 140,
     "metadata": {},
     "output_type": "execute_result"
    }
   ],
   "source": [
    "m"
   ]
  },
  {
   "cell_type": "code",
   "execution_count": 141,
   "id": "00282b38-22b1-4a5a-907f-88571a985399",
   "metadata": {},
   "outputs": [],
   "source": [
    "x=np.random.randint(10, size = (4,4))"
   ]
  },
  {
   "cell_type": "code",
   "execution_count": 143,
   "id": "f477474a-4dcd-4f11-8db3-23219acfe863",
   "metadata": {},
   "outputs": [
    {
     "data": {
      "text/plain": [
       "array([[3, 2, 6, 9],\n",
       "       [4, 8, 3, 3],\n",
       "       [6, 8, 1, 5],\n",
       "       [5, 2, 0, 1]])"
      ]
     },
     "execution_count": 143,
     "metadata": {},
     "output_type": "execute_result"
    }
   ],
   "source": [
    "x"
   ]
  },
  {
   "cell_type": "code",
   "execution_count": 144,
   "id": "028e6df2-5e7b-4a94-92c1-73d9c5808b02",
   "metadata": {},
   "outputs": [],
   "source": [
    "x.sort()"
   ]
  },
  {
   "cell_type": "code",
   "execution_count": 145,
   "id": "721d01d5-069f-4cc2-90ed-7528049a29b8",
   "metadata": {},
   "outputs": [
    {
     "data": {
      "text/plain": [
       "array([[2, 3, 6, 9],\n",
       "       [3, 3, 4, 8],\n",
       "       [1, 5, 6, 8],\n",
       "       [0, 1, 2, 5]])"
      ]
     },
     "execution_count": 145,
     "metadata": {},
     "output_type": "execute_result"
    }
   ],
   "source": [
    "x"
   ]
  },
  {
   "cell_type": "code",
   "execution_count": 146,
   "id": "7057551a-e3f4-42a9-a54d-69a4bb98ef04",
   "metadata": {},
   "outputs": [
    {
     "data": {
      "text/plain": [
       "array([[2, 3, 6, 9],\n",
       "       [3, 3, 4, 8],\n",
       "       [1, 5, 6, 8],\n",
       "       [0, 1, 2, 5]])"
      ]
     },
     "execution_count": 146,
     "metadata": {},
     "output_type": "execute_result"
    }
   ],
   "source": [
    "np.sort(x, axis= 1) #yatay şekilde"
   ]
  },
  {
   "cell_type": "code",
   "execution_count": 147,
   "id": "88043a52-fb36-4595-a34c-f324e98377f0",
   "metadata": {},
   "outputs": [
    {
     "data": {
      "text/plain": [
       "array([[0, 1, 2, 5],\n",
       "       [1, 3, 4, 8],\n",
       "       [2, 3, 6, 8],\n",
       "       [3, 5, 6, 9]])"
      ]
     },
     "execution_count": 147,
     "metadata": {},
     "output_type": "execute_result"
    }
   ],
   "source": [
    "np.sort(x, axis= 0) #dikine"
   ]
  },
  {
   "cell_type": "code",
   "execution_count": null,
   "id": "5b4d2ce7-1cf1-4cdc-9861-ee91bebee9a7",
   "metadata": {},
   "outputs": [],
   "source": []
  },
  {
   "cell_type": "code",
   "execution_count": null,
   "id": "91d93507-c67e-4237-a053-1d49218daf31",
   "metadata": {},
   "outputs": [],
   "source": []
  }
 ],
 "metadata": {
  "kernelspec": {
   "display_name": "Python 3 (ipykernel)",
   "language": "python",
   "name": "python3"
  },
  "language_info": {
   "codemirror_mode": {
    "name": "ipython",
    "version": 3
   },
   "file_extension": ".py",
   "mimetype": "text/x-python",
   "name": "python",
   "nbconvert_exporter": "python",
   "pygments_lexer": "ipython3",
   "version": "3.9.13"
  }
 },
 "nbformat": 4,
 "nbformat_minor": 5
}
