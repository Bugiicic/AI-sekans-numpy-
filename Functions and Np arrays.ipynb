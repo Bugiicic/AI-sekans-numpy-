{
 "cells": [
  {
   "cell_type": "code",
   "execution_count": 1,
   "id": "e996fb1f",
   "metadata": {},
   "outputs": [
    {
     "name": "stdout",
     "output_type": "stream",
     "text": [
      "Hello\n"
     ]
    }
   ],
   "source": [
    "#Functions\n",
    "\n",
    "def greet_user(): #defining a function called \"greet_user\" and giving any information\n",
    "                   # the function needs inside the paranthesis.\n",
    "    print('Hello')\n",
    "    \n",
    "#we defined a function that prints the string \"Hello\"\n",
    "\n",
    "greet_user()"
   ]
  },
  {
   "cell_type": "code",
   "execution_count": 2,
   "id": "a33b2e43",
   "metadata": {},
   "outputs": [
    {
     "name": "stdout",
     "output_type": "stream",
     "text": [
      "Hello jesse.\n"
     ]
    }
   ],
   "source": [
    "#We want to define a function that prints \"Hello name\". This time, we want the function\n",
    "#to greet a specific person \n",
    "\n",
    "def greet_user(person):\n",
    "    print(\"Hello \" + person + \".\")\n",
    "    \n",
    "greet_user('jesse')"
   ]
  },
  {
   "cell_type": "code",
   "execution_count": 3,
   "id": "0f3936c3",
   "metadata": {},
   "outputs": [
    {
     "name": "stdout",
     "output_type": "stream",
     "text": [
      "Hello Adam.\n"
     ]
    }
   ],
   "source": [
    "greet_user('Adam')"
   ]
  },
  {
   "cell_type": "code",
   "execution_count": null,
   "id": "e57f407e",
   "metadata": {},
   "outputs": [],
   "source": [
    "#Here 'person' is called a parameter. The value we give to a parameter is called an 'argument'\n",
    "#When we say greet_user('jesse'), the word jesse is an argument."
   ]
  },
  {
   "cell_type": "code",
   "execution_count": 4,
   "id": "3bae5a8b",
   "metadata": {},
   "outputs": [
    {
     "name": "stdout",
     "output_type": "stream",
     "text": [
      "In this chapter, we are learning about functions.\n"
     ]
    }
   ],
   "source": [
    "#1. Write a function called display_message() that prints one sentence telling everyone what\n",
    "# you are learning about in this chapter. Call the function, and make sure the message\n",
    "#displays correctly\n",
    "\n",
    "def display_message():\n",
    "    print(\"In this chapter, we are learning about functions.\")\n",
    "    \n",
    "display_message()"
   ]
  },
  {
   "cell_type": "code",
   "execution_count": 6,
   "id": "f67f6531",
   "metadata": {},
   "outputs": [
    {
     "name": "stdout",
     "output_type": "stream",
     "text": [
      "One of my favorite books is Crash Course Python.\n",
      "One of my favorite books is Alice in The Wonderland.\n"
     ]
    }
   ],
   "source": [
    "#2 Write a funciton called favorite_book() that accepts one parameter, title. The function \n",
    "#should print a message, such as One of my favorite books is Alice in The Wonderland. Call\n",
    "#the function, making sure to include a book title as an argument in the funciton call.\n",
    "\n",
    "def favorite_book(title):\n",
    "    print(\"One of my favorite books is \" + title + \".\")\n",
    "    \n",
    "favorite_book(\"Crash Course Python\")\n",
    "favorite_book(\"Alice in The Wonderland\")"
   ]
  },
  {
   "cell_type": "code",
   "execution_count": 8,
   "id": "c38b5afd",
   "metadata": {},
   "outputs": [
    {
     "name": "stdout",
     "output_type": "stream",
     "text": [
      "I have a hamster.\n",
      "My hamster's name is Harry.\n"
     ]
    }
   ],
   "source": [
    "#Sometimes, you will need more than one parameter.\n",
    "\n",
    "def describe_pet(animal_type, pet_name):\n",
    "    print(\"I have a \" + animal_type + \".\")\n",
    "    print(\"My \" + animal_type + \"'s name is \" + pet_name + \".\")\n",
    "    \n",
    "\n",
    "describe_pet('hamster', 'Harry') #Remember to pay attention to the order when passing arguments\n",
    "\n"
   ]
  },
  {
   "cell_type": "code",
   "execution_count": 11,
   "id": "bd1ebb4b",
   "metadata": {},
   "outputs": [
    {
     "name": "stdout",
     "output_type": "stream",
     "text": [
      "I have a cat.\n",
      "My cat's name is Willie.\n"
     ]
    }
   ],
   "source": [
    "describe_pet('cat', 'Willie')"
   ]
  },
  {
   "cell_type": "code",
   "execution_count": 12,
   "id": "b8d54dd8",
   "metadata": {},
   "outputs": [
    {
     "name": "stdout",
     "output_type": "stream",
     "text": [
      "I have a Willie.\n",
      "My Willie's name is cat.\n"
     ]
    }
   ],
   "source": [
    "#If we don't pay attention to the order, we may end up with an undesired result.\n",
    "\n",
    "describe_pet('Willie', 'cat')"
   ]
  },
  {
   "cell_type": "code",
   "execution_count": null,
   "id": "cf69a355",
   "metadata": {},
   "outputs": [],
   "source": [
    "#Avoiding Argument Errors p.140. The number of arguments we pass need to equal the number\n",
    "#of parameters the function has. Otherwise, we will get an error. Let's look at an example.\n",
    "\n"
   ]
  },
  {
   "cell_type": "code",
   "execution_count": 13,
   "id": "ac83ac62",
   "metadata": {},
   "outputs": [
    {
     "ename": "TypeError",
     "evalue": "describe_pet() missing 2 required positional arguments: 'animal_type' and 'pet_name'",
     "output_type": "error",
     "traceback": [
      "\u001b[0;31m---------------------------------------------------------------------------\u001b[0m",
      "\u001b[0;31mTypeError\u001b[0m                                 Traceback (most recent call last)",
      "\u001b[0;32m/var/folders/nz/g60zwym576zb_3pvcyq6khc40000gn/T/ipykernel_8066/1316483541.py\u001b[0m in \u001b[0;36m<module>\u001b[0;34m\u001b[0m\n\u001b[0;32m----> 1\u001b[0;31m \u001b[0mdescribe_pet\u001b[0m\u001b[0;34m(\u001b[0m\u001b[0;34m)\u001b[0m\u001b[0;34m\u001b[0m\u001b[0;34m\u001b[0m\u001b[0m\n\u001b[0m",
      "\u001b[0;31mTypeError\u001b[0m: describe_pet() missing 2 required positional arguments: 'animal_type' and 'pet_name'"
     ]
    }
   ],
   "source": [
    "describe_pet()"
   ]
  },
  {
   "cell_type": "code",
   "execution_count": 15,
   "id": "e4957e74",
   "metadata": {},
   "outputs": [
    {
     "name": "stdout",
     "output_type": "stream",
     "text": [
      "The shirt should be of size small with python written on it.\n",
      "The shirt should be of size medium with java written on it.\n"
     ]
    }
   ],
   "source": [
    "#3. Write a function called make_shirt() that accepts a size and the \n",
    "#text of a message that should be printed on this shirt. The function\n",
    "#should print a sentence summarizing the size of the shirt and the \n",
    "#message printed on it. \n",
    "\n",
    "def make_shirt(size, text):\n",
    "    print(\"The shirt should be of size \" + size + \" with \" + text + \" written on it.\")\n",
    "    \n",
    "make_shirt('small', 'python')\n",
    "make_shirt('medium', 'java')"
   ]
  },
  {
   "cell_type": "code",
   "execution_count": 20,
   "id": "e98986e0",
   "metadata": {},
   "outputs": [
    {
     "name": "stdout",
     "output_type": "stream",
     "text": [
      "Ankara is in Turkey.\n",
      "Albany is in The United States.\n",
      "Kuwait city is in Kuwait.\n"
     ]
    }
   ],
   "source": [
    "#4. Write a function called describe_city() that accepts the name of a \n",
    "#city and its country. The function should print a simple sentence, such \n",
    "#as Reykjavik is in Iceland. Call your function for three different \n",
    "#cities.\n",
    "\n",
    "def describe_city(city, country):\n",
    "    print(city + \" is in \" + country + \".\")\n",
    "    \n",
    "describe_city(\"Ankara\", \"Turkey\")\n",
    "describe_city(\"Albany\", \"The United States\")\n",
    "describe_city(\"Kuwait city\", \"Kuwait\")\n"
   ]
  },
  {
   "cell_type": "code",
   "execution_count": 22,
   "id": "e2b7d66a",
   "metadata": {},
   "outputs": [
    {
     "name": "stdout",
     "output_type": "stream",
     "text": [
      "Jimi Hendrix\n"
     ]
    }
   ],
   "source": [
    "#Return Values p.141\n",
    "\n",
    "#we may use \"return\" instead of print. \n",
    "\n",
    "def get_name(first_name, last_name):\n",
    "    full_name= first_name + ' ' + last_name\n",
    "    return full_name\n",
    "\n",
    "#When we use return, we have get_name(first_name, last_name) = full_name\n",
    "\n",
    "musician = get_name('Jimi', \"Hendrix\")\n",
    "print(musician)\n",
    "\n",
    "#In this case get_name('Jimi', \"Hendrix\") is set to equal full_name\n",
    "#(whatever we wrote for \"return\")\n"
   ]
  },
  {
   "cell_type": "code",
   "execution_count": 23,
   "id": "ba8703d9",
   "metadata": {},
   "outputs": [
    {
     "name": "stdout",
     "output_type": "stream",
     "text": [
      "Hello, hannah!\n",
      "Hello, ty!\n",
      "Hello, margot!\n"
     ]
    }
   ],
   "source": [
    "#The parameters in a function do not need to be variables, we could\n",
    "#use lists, tuples, and so on.\n",
    "\n",
    "def greet_user(names): #here, the parameter is a list called names\n",
    "    for name in names:\n",
    "        msg = \"Hello, \" + name + \"!\"\n",
    "        print(msg)\n",
    "        \n",
    "greet_user(['hannah', 'ty', 'margot'])\n",
    "\n",
    "#So we passed a list ['hannah', 'ty', 'margot'] for the parameter names"
   ]
  },
  {
   "cell_type": "code",
   "execution_count": 26,
   "id": "ffe41a7d",
   "metadata": {},
   "outputs": [
    {
     "name": "stdout",
     "output_type": "stream",
     "text": [
      "['pepperoni']\n",
      "['mushrooms', 'green peppers', 'extra cheese']\n"
     ]
    }
   ],
   "source": [
    "#Passing an arbitrary number of arguments p. 151\n",
    "\n",
    "#Sometimes, we will not know the number of arguments we will need. \n",
    "#In this case, we may use a list for the parameter (like we did \n",
    "#in the previous example), or we could use a tuple with an asterisk as\n",
    "#we will see below.\n",
    "\n",
    "def make_pizza(toppings): #we can use a list for our parameter since\n",
    "                            #we don't know how many toppings will be \n",
    "                            #requested.\n",
    "    print(toppings)\n",
    "    \n",
    "make_pizza(['pepperoni'])\n",
    "make_pizza(['mushrooms', 'green peppers', 'extra cheese'])"
   ]
  },
  {
   "cell_type": "code",
   "execution_count": 28,
   "id": "40cc6106",
   "metadata": {},
   "outputs": [
    {
     "name": "stdout",
     "output_type": "stream",
     "text": [
      "Making a pizza with the following toppings:\n",
      "- pepperoni\n",
      "Making a pizza with the following toppings:\n",
      "- mushrooms\n",
      "- green peppers\n",
      "- extra cheese\n"
     ]
    }
   ],
   "source": [
    "#We can also use a more complicated function\n",
    "\n",
    "def make_pizza(toppings):\n",
    "    print(\"Making a pizza with the following toppings:\")\n",
    "    for topping in toppings:\n",
    "        print('- ' + topping)\n",
    "        \n",
    "make_pizza(['pepperoni'])\n",
    "make_pizza(['mushrooms', 'green peppers', 'extra cheese'])"
   ]
  },
  {
   "cell_type": "code",
   "execution_count": 30,
   "id": "d10f1d8a",
   "metadata": {},
   "outputs": [
    {
     "name": "stdout",
     "output_type": "stream",
     "text": [
      "('pepperoni',)\n",
      "('mushrooms', 'green peppers', 'extra cheese')\n"
     ]
    }
   ],
   "source": [
    "#There is another way to include any number of arguments, and that's\n",
    "#by using a tuple with an asterisk\n",
    "\n",
    "def make_pizza(*toppings):\n",
    "    print(toppings)\n",
    "    \n",
    "#Here, *toppings created an empty tuple called toppings and added the\n",
    "#the arguements given in make_pizza to the tuple toppings\n",
    "    \n",
    "make_pizza('pepperoni')\n",
    "make_pizza('mushrooms', 'green peppers', 'extra cheese')\n"
   ]
  },
  {
   "cell_type": "code",
   "execution_count": 31,
   "id": "ab90c592",
   "metadata": {},
   "outputs": [
    {
     "name": "stdout",
     "output_type": "stream",
     "text": [
      "Making a pizza with the following toppings:\n",
      "- pepperoni\n",
      "Making a pizza with the following toppings:\n",
      "- mushrooms\n",
      "- green peppers\n",
      "- extra cheese\n"
     ]
    }
   ],
   "source": [
    "def make_pizza(*toppings):\n",
    "    print(\"Making a pizza with the following toppings:\")\n",
    "    for topping in toppings:\n",
    "        print('- ' + topping)\n",
    "        \n",
    "make_pizza('pepperoni')\n",
    "make_pizza('mushrooms', 'green peppers', 'extra cheese')"
   ]
  },
  {
   "cell_type": "code",
   "execution_count": 33,
   "id": "080e1679",
   "metadata": {},
   "outputs": [
    {
     "name": "stdout",
     "output_type": "stream",
     "text": [
      "Making a 16-inch pizza with the following toppings:\n",
      "- pepperoni\n",
      "Making a 12-inch pizza with the following toppings:\n",
      "- mushrooms\n",
      "- green peppers\n",
      "- extra cheese\n"
     ]
    }
   ],
   "source": [
    "#if we want to add more parameters to make_pizza, we can do that by\n",
    "#writings all the parameters first and the parameter *toppings the last\n",
    "\n",
    "def make_pizza(size, *toppings):\n",
    "    print(\"Making a \" + str(size) + \"-inch pizza with the following toppings:\")\n",
    "    for topping in toppings:\n",
    "        print(\"- \" + topping)\n",
    "        \n",
    "make_pizza(16, 'pepperoni')\n",
    "\n",
    "make_pizza(12, 'mushrooms', 'green peppers', 'extra cheese')"
   ]
  },
  {
   "cell_type": "code",
   "execution_count": null,
   "id": "1b66bbfe",
   "metadata": {},
   "outputs": [],
   "source": [
    "#5. Write a function that accepts a list of items a person wants on a \n",
    "#sandwich. The function should have one parameter that collects as many\n",
    "#items as the function call provides, and it should print a summary\n",
    "#of the sandwich that is being ordered. Call the function three times,\n",
    "#using a different number of arguments each time."
   ]
  },
  {
   "cell_type": "code",
   "execution_count": 37,
   "id": "f2390115",
   "metadata": {},
   "outputs": [
    {
     "name": "stdout",
     "output_type": "stream",
     "text": [
      "Adding the following to my sandwich:\n",
      "- olives\n",
      "- cheese\n",
      "- tomatoe\n",
      "Adding the following to my sandwich:\n",
      "- cheese\n",
      "- turkey\n",
      "Adding the following to my sandwich:\n",
      "- tuna\n"
     ]
    }
   ],
   "source": [
    "def make_sandwich(*list):\n",
    "    print(\"Adding the following to my sandwich:\")\n",
    "    for xy in list:\n",
    "        print(\"- \" + xy)\n",
    "        \n",
    "        \n",
    "make_sandwich('olives', 'cheese', 'tomatoe')\n",
    "make_sandwich('cheese', 'turkey')\n",
    "make_sandwich('tuna')"
   ]
  },
  {
   "cell_type": "code",
   "execution_count": null,
   "id": "fdcd72fc",
   "metadata": {},
   "outputs": [],
   "source": [
    "#Numpy Arrays from the book \"Python programming for numerical methods:\n",
    "#a guide for engineers and scientists\""
   ]
  },
  {
   "cell_type": "code",
   "execution_count": 40,
   "id": "98a6d1b0",
   "metadata": {},
   "outputs": [
    {
     "name": "stdout",
     "output_type": "stream",
     "text": [
      "[1 4 3]\n"
     ]
    }
   ],
   "source": [
    "#To use numpy arrays we need to import the numpy library. A numpy array\n",
    "#is very similar to a list. \n",
    "\n",
    "import numpy as np\n",
    "\n",
    "x = np.array([1, 4, 3])\n",
    "print(x)"
   ]
  },
  {
   "cell_type": "code",
   "execution_count": 42,
   "id": "c1024191",
   "metadata": {},
   "outputs": [
    {
     "name": "stdout",
     "output_type": "stream",
     "text": [
      "[[1 4 3]\n",
      " [9 2 7]]\n"
     ]
    }
   ],
   "source": [
    "#We can also define matrices using numpy arrays. To define matrices,\n",
    "#we write the first row, then the second row, and so on.\n",
    "\n",
    "y = np.array([[1, 4, 3], [9, 2, 7]])\n",
    "print(y)"
   ]
  },
  {
   "cell_type": "code",
   "execution_count": 43,
   "id": "7d3573e5",
   "metadata": {},
   "outputs": [
    {
     "data": {
      "text/plain": [
       "(2, 3)"
      ]
     },
     "execution_count": 43,
     "metadata": {},
     "output_type": "execute_result"
    }
   ],
   "source": [
    "#y.shape gives us the number of rows in our numpy array followed by \n",
    "#the number of columns\n",
    "\n",
    "\n",
    "y.shape"
   ]
  },
  {
   "cell_type": "code",
   "execution_count": 44,
   "id": "d03a1aba",
   "metadata": {},
   "outputs": [
    {
     "data": {
      "text/plain": [
       "6"
      ]
     },
     "execution_count": 44,
     "metadata": {},
     "output_type": "execute_result"
    }
   ],
   "source": [
    "#y.size gives us the number of entries that we have\n",
    "\n",
    "\n",
    "y.size"
   ]
  },
  {
   "cell_type": "code",
   "execution_count": 49,
   "id": "5e32c5f4",
   "metadata": {},
   "outputs": [
    {
     "name": "stdout",
     "output_type": "stream",
     "text": [
      "[   1    2    3 ... 1997 1998 1999]\n",
      "[   1    3    5    7    9   11   13   15   17   19   21   23   25   27\n",
      "   29   31   33   35   37   39   41   43   45   47   49   51   53   55\n",
      "   57   59   61   63   65   67   69   71   73   75   77   79   81   83\n",
      "   85   87   89   91   93   95   97   99  101  103  105  107  109  111\n",
      "  113  115  117  119  121  123  125  127  129  131  133  135  137  139\n",
      "  141  143  145  147  149  151  153  155  157  159  161  163  165  167\n",
      "  169  171  173  175  177  179  181  183  185  187  189  191  193  195\n",
      "  197  199  201  203  205  207  209  211  213  215  217  219  221  223\n",
      "  225  227  229  231  233  235  237  239  241  243  245  247  249  251\n",
      "  253  255  257  259  261  263  265  267  269  271  273  275  277  279\n",
      "  281  283  285  287  289  291  293  295  297  299  301  303  305  307\n",
      "  309  311  313  315  317  319  321  323  325  327  329  331  333  335\n",
      "  337  339  341  343  345  347  349  351  353  355  357  359  361  363\n",
      "  365  367  369  371  373  375  377  379  381  383  385  387  389  391\n",
      "  393  395  397  399  401  403  405  407  409  411  413  415  417  419\n",
      "  421  423  425  427  429  431  433  435  437  439  441  443  445  447\n",
      "  449  451  453  455  457  459  461  463  465  467  469  471  473  475\n",
      "  477  479  481  483  485  487  489  491  493  495  497  499  501  503\n",
      "  505  507  509  511  513  515  517  519  521  523  525  527  529  531\n",
      "  533  535  537  539  541  543  545  547  549  551  553  555  557  559\n",
      "  561  563  565  567  569  571  573  575  577  579  581  583  585  587\n",
      "  589  591  593  595  597  599  601  603  605  607  609  611  613  615\n",
      "  617  619  621  623  625  627  629  631  633  635  637  639  641  643\n",
      "  645  647  649  651  653  655  657  659  661  663  665  667  669  671\n",
      "  673  675  677  679  681  683  685  687  689  691  693  695  697  699\n",
      "  701  703  705  707  709  711  713  715  717  719  721  723  725  727\n",
      "  729  731  733  735  737  739  741  743  745  747  749  751  753  755\n",
      "  757  759  761  763  765  767  769  771  773  775  777  779  781  783\n",
      "  785  787  789  791  793  795  797  799  801  803  805  807  809  811\n",
      "  813  815  817  819  821  823  825  827  829  831  833  835  837  839\n",
      "  841  843  845  847  849  851  853  855  857  859  861  863  865  867\n",
      "  869  871  873  875  877  879  881  883  885  887  889  891  893  895\n",
      "  897  899  901  903  905  907  909  911  913  915  917  919  921  923\n",
      "  925  927  929  931  933  935  937  939  941  943  945  947  949  951\n",
      "  953  955  957  959  961  963  965  967  969  971  973  975  977  979\n",
      "  981  983  985  987  989  991  993  995  997  999 1001 1003 1005 1007\n",
      " 1009 1011 1013 1015 1017 1019 1021 1023 1025 1027 1029 1031 1033 1035\n",
      " 1037 1039 1041 1043 1045 1047 1049 1051 1053 1055 1057 1059 1061 1063\n",
      " 1065 1067 1069 1071 1073 1075 1077 1079 1081 1083 1085 1087 1089 1091\n",
      " 1093 1095 1097 1099 1101 1103 1105 1107 1109 1111 1113 1115 1117 1119\n",
      " 1121 1123 1125 1127 1129 1131 1133 1135 1137 1139 1141 1143 1145 1147\n",
      " 1149 1151 1153 1155 1157 1159 1161 1163 1165 1167 1169 1171 1173 1175\n",
      " 1177 1179 1181 1183 1185 1187 1189 1191 1193 1195 1197 1199 1201 1203\n",
      " 1205 1207 1209 1211 1213 1215 1217 1219 1221 1223 1225 1227 1229 1231\n",
      " 1233 1235 1237 1239 1241 1243 1245 1247 1249 1251 1253 1255 1257 1259\n",
      " 1261 1263 1265 1267 1269 1271 1273 1275 1277 1279 1281 1283 1285 1287\n",
      " 1289 1291 1293 1295 1297 1299 1301 1303 1305 1307 1309 1311 1313 1315\n",
      " 1317 1319 1321 1323 1325 1327 1329 1331 1333 1335 1337 1339 1341 1343\n",
      " 1345 1347 1349 1351 1353 1355 1357 1359 1361 1363 1365 1367 1369 1371\n",
      " 1373 1375 1377 1379 1381 1383 1385 1387 1389 1391 1393 1395 1397 1399\n",
      " 1401 1403 1405 1407 1409 1411 1413 1415 1417 1419 1421 1423 1425 1427\n",
      " 1429 1431 1433 1435 1437 1439 1441 1443 1445 1447 1449 1451 1453 1455\n",
      " 1457 1459 1461 1463 1465 1467 1469 1471 1473 1475 1477 1479 1481 1483\n",
      " 1485 1487 1489 1491 1493 1495 1497 1499 1501 1503 1505 1507 1509 1511\n",
      " 1513 1515 1517 1519 1521 1523 1525 1527 1529 1531 1533 1535 1537 1539\n",
      " 1541 1543 1545 1547 1549 1551 1553 1555 1557 1559 1561 1563 1565 1567\n",
      " 1569 1571 1573 1575 1577 1579 1581 1583 1585 1587 1589 1591 1593 1595\n",
      " 1597 1599 1601 1603 1605 1607 1609 1611 1613 1615 1617 1619 1621 1623\n",
      " 1625 1627 1629 1631 1633 1635 1637 1639 1641 1643 1645 1647 1649 1651\n",
      " 1653 1655 1657 1659 1661 1663 1665 1667 1669 1671 1673 1675 1677 1679\n",
      " 1681 1683 1685 1687 1689 1691 1693 1695 1697 1699 1701 1703 1705 1707\n",
      " 1709 1711 1713 1715 1717 1719 1721 1723 1725 1727 1729 1731 1733 1735\n",
      " 1737 1739 1741 1743 1745 1747 1749 1751 1753 1755 1757 1759 1761 1763\n",
      " 1765 1767 1769 1771 1773 1775 1777 1779 1781 1783 1785 1787 1789 1791\n",
      " 1793 1795 1797 1799 1801 1803 1805 1807 1809 1811 1813 1815 1817 1819\n",
      " 1821 1823 1825 1827 1829 1831 1833 1835 1837 1839 1841 1843 1845 1847\n",
      " 1849 1851 1853 1855 1857 1859 1861 1863 1865 1867 1869 1871 1873 1875\n",
      " 1877 1879 1881 1883 1885 1887 1889 1891 1893 1895 1897 1899 1901 1903\n",
      " 1905 1907 1909 1911 1913 1915 1917 1919 1921 1923 1925 1927 1929 1931\n",
      " 1933 1935 1937 1939 1941 1943 1945 1947 1949 1951 1953 1955 1957 1959\n",
      " 1961 1963 1965 1967 1969 1971 1973 1975 1977 1979 1981 1983 1985 1987\n",
      " 1989 1991 1993 1995 1997 1999]\n",
      "[   1   11   21   31   41   51   61   71   81   91  101  111  121  131\n",
      "  141  151  161  171  181  191  201  211  221  231  241  251  261  271\n",
      "  281  291  301  311  321  331  341  351  361  371  381  391  401  411\n",
      "  421  431  441  451  461  471  481  491  501  511  521  531  541  551\n",
      "  561  571  581  591  601  611  621  631  641  651  661  671  681  691\n",
      "  701  711  721  731  741  751  761  771  781  791  801  811  821  831\n",
      "  841  851  861  871  881  891  901  911  921  931  941  951  961  971\n",
      "  981  991 1001 1011 1021 1031 1041 1051 1061 1071 1081 1091 1101 1111\n",
      " 1121 1131 1141 1151 1161 1171 1181 1191 1201 1211 1221 1231 1241 1251\n",
      " 1261 1271 1281 1291 1301 1311 1321 1331 1341 1351 1361 1371 1381 1391\n",
      " 1401 1411 1421 1431 1441 1451 1461 1471 1481 1491 1501 1511 1521 1531\n",
      " 1541 1551 1561 1571 1581 1591 1601 1611 1621 1631 1641 1651 1661 1671\n",
      " 1681 1691 1701 1711 1721 1731 1741 1751 1761 1771 1781 1791 1801 1811\n",
      " 1821 1831 1841 1851 1861 1871 1881 1891 1901 1911 1921 1931 1941 1951\n",
      " 1961 1971 1981 1991]\n"
     ]
    }
   ],
   "source": [
    "#When we want to create a list starting from one number (example 1)\n",
    "#and ending at another number (example 2000) with a certain \n",
    "#increment (example 1)\n",
    "\n",
    "z = np.arange(1, 2000, 1)\n",
    "print(z)\n",
    "\n",
    "#If I want the same numpy array with an increment of 2\n",
    "\n",
    "zz = np.arange(1, 2000, 2)\n",
    "print(zz)\n",
    "\n",
    "zzz= np.arange(1, 2000, 10)\n",
    "print(zzz)"
   ]
  },
  {
   "cell_type": "code",
   "execution_count": 51,
   "id": "6b33f992",
   "metadata": {},
   "outputs": [
    {
     "name": "stdout",
     "output_type": "stream",
     "text": [
      "[0.5 1.  1.5 2.  2.5]\n"
     ]
    }
   ],
   "source": [
    "xyz = np.arange(0.5, 3, 0.5)\n",
    "print(xyz)"
   ]
  },
  {
   "cell_type": "code",
   "execution_count": 52,
   "id": "45cda833",
   "metadata": {},
   "outputs": [
    {
     "data": {
      "text/plain": [
       "array([3.        , 3.66666667, 4.33333333, 5.        , 5.66666667,\n",
       "       6.33333333, 7.        , 7.66666667, 8.33333333, 9.        ])"
      ]
     },
     "execution_count": 52,
     "metadata": {},
     "output_type": "execute_result"
    }
   ],
   "source": [
    "#np.linspace gives us a numpy array starting from one number an ending\n",
    "#at another. Here the third parameter is the number of elements that\n",
    "#we want that are evenly spaced out.\n",
    "\n",
    "np.linspace(3,9,10)"
   ]
  },
  {
   "cell_type": "code",
   "execution_count": 53,
   "id": "8be4e6a7",
   "metadata": {},
   "outputs": [
    {
     "name": "stdout",
     "output_type": "stream",
     "text": [
      "[1 4 3]\n"
     ]
    }
   ],
   "source": [
    "print(x)"
   ]
  },
  {
   "cell_type": "code",
   "execution_count": 54,
   "id": "b7aeaee2",
   "metadata": {},
   "outputs": [
    {
     "name": "stdout",
     "output_type": "stream",
     "text": [
      "4\n"
     ]
    }
   ],
   "source": [
    "print(x[1])"
   ]
  },
  {
   "cell_type": "code",
   "execution_count": 55,
   "id": "78e5c9d9",
   "metadata": {},
   "outputs": [
    {
     "name": "stdout",
     "output_type": "stream",
     "text": [
      "[4 3]\n"
     ]
    }
   ],
   "source": [
    "print(x[1:]) #all elements starting from the second element"
   ]
  },
  {
   "cell_type": "code",
   "execution_count": 56,
   "id": "813111a9",
   "metadata": {},
   "outputs": [
    {
     "name": "stdout",
     "output_type": "stream",
     "text": [
      "3\n"
     ]
    }
   ],
   "source": [
    "print(x[-1]) #the last element of x"
   ]
  },
  {
   "cell_type": "code",
   "execution_count": 57,
   "id": "cf33f3ca",
   "metadata": {},
   "outputs": [
    {
     "name": "stdout",
     "output_type": "stream",
     "text": [
      "[[1 4 3]\n",
      " [9 2 7]]\n"
     ]
    }
   ],
   "source": [
    "print(y)"
   ]
  },
  {
   "cell_type": "code",
   "execution_count": 58,
   "id": "dddef7f6",
   "metadata": {},
   "outputs": [
    {
     "data": {
      "text/plain": [
       "4"
      ]
     },
     "execution_count": 58,
     "metadata": {},
     "output_type": "execute_result"
    }
   ],
   "source": [
    "y[0,1]"
   ]
  },
  {
   "cell_type": "code",
   "execution_count": 59,
   "id": "08b41afd",
   "metadata": {},
   "outputs": [
    {
     "data": {
      "text/plain": [
       "array([1, 4, 3])"
      ]
     },
     "execution_count": 59,
     "metadata": {},
     "output_type": "execute_result"
    }
   ],
   "source": [
    "y[0,:]"
   ]
  },
  {
   "cell_type": "code",
   "execution_count": 60,
   "id": "583cadb9",
   "metadata": {},
   "outputs": [
    {
     "data": {
      "text/plain": [
       "array([3, 7])"
      ]
     },
     "execution_count": 60,
     "metadata": {},
     "output_type": "execute_result"
    }
   ],
   "source": [
    "y[:,-1]"
   ]
  },
  {
   "cell_type": "code",
   "execution_count": 61,
   "id": "c95a9b55",
   "metadata": {},
   "outputs": [
    {
     "data": {
      "text/plain": [
       "array([[1, 3],\n",
       "       [9, 7]])"
      ]
     },
     "execution_count": 61,
     "metadata": {},
     "output_type": "execute_result"
    }
   ],
   "source": [
    "y[:, [0,2]]"
   ]
  },
  {
   "cell_type": "code",
   "execution_count": 62,
   "id": "9a5504c1",
   "metadata": {},
   "outputs": [
    {
     "data": {
      "text/plain": [
       "array([[0., 0., 0., 0., 0.],\n",
       "       [0., 0., 0., 0., 0.],\n",
       "       [0., 0., 0., 0., 0.]])"
      ]
     },
     "execution_count": 62,
     "metadata": {},
     "output_type": "execute_result"
    }
   ],
   "source": [
    "#We can define a numpy array of any size consisting entirely of zeros\n",
    "#or ones\n",
    "\n",
    "np.zeros((3,5))"
   ]
  },
  {
   "cell_type": "code",
   "execution_count": 63,
   "id": "4945179a",
   "metadata": {},
   "outputs": [
    {
     "data": {
      "text/plain": [
       "array([[1., 1., 1., 1., 1.],\n",
       "       [1., 1., 1., 1., 1.],\n",
       "       [1., 1., 1., 1., 1.]])"
      ]
     },
     "execution_count": 63,
     "metadata": {},
     "output_type": "execute_result"
    }
   ],
   "source": [
    "np.ones((3,5))"
   ]
  },
  {
   "cell_type": "code",
   "execution_count": 65,
   "id": "56d2bebb",
   "metadata": {},
   "outputs": [
    {
     "name": "stdout",
     "output_type": "stream",
     "text": [
      "[1 2 3 4 5 6]\n"
     ]
    }
   ],
   "source": [
    "a = np.arange(1,7) #the increment is 1 by default\n",
    "print(a)"
   ]
  },
  {
   "cell_type": "code",
   "execution_count": 70,
   "id": "cf519574",
   "metadata": {},
   "outputs": [
    {
     "data": {
      "text/plain": [
       "4"
      ]
     },
     "execution_count": 70,
     "metadata": {},
     "output_type": "execute_result"
    }
   ],
   "source": [
    "a[3]"
   ]
  },
  {
   "cell_type": "code",
   "execution_count": 71,
   "id": "034a12a6",
   "metadata": {},
   "outputs": [
    {
     "name": "stdout",
     "output_type": "stream",
     "text": [
      "[1 1 1 4 5 6]\n"
     ]
    }
   ],
   "source": [
    "a[:3] =1 #all entries from the 0th position up to the 2nd position is \n",
    "#defined as 1\n",
    "\n",
    "print(a)"
   ]
  },
  {
   "cell_type": "code",
   "execution_count": 73,
   "id": "997df755",
   "metadata": {},
   "outputs": [
    {
     "name": "stdout",
     "output_type": "stream",
     "text": [
      "[1 9 7 8 5 6]\n"
     ]
    }
   ],
   "source": [
    "a[1:4] = [9,7,8]\n",
    "print(a)"
   ]
  },
  {
   "cell_type": "code",
   "execution_count": 77,
   "id": "e37f4317",
   "metadata": {},
   "outputs": [
    {
     "name": "stdout",
     "output_type": "stream",
     "text": [
      "[[1 2]\n",
      " [3 4]]\n"
     ]
    }
   ],
   "source": [
    "b = np.array([[1,2], [3,4]])\n",
    "print(b)"
   ]
  },
  {
   "cell_type": "code",
   "execution_count": 78,
   "id": "77e0c0ba",
   "metadata": {},
   "outputs": [
    {
     "data": {
      "text/plain": [
       "array([[3, 4],\n",
       "       [5, 6]])"
      ]
     },
     "execution_count": 78,
     "metadata": {},
     "output_type": "execute_result"
    }
   ],
   "source": [
    "b+2"
   ]
  },
  {
   "cell_type": "code",
   "execution_count": 79,
   "id": "0f848661",
   "metadata": {},
   "outputs": [
    {
     "data": {
      "text/plain": [
       "array([[-1,  0],\n",
       "       [ 1,  2]])"
      ]
     },
     "execution_count": 79,
     "metadata": {},
     "output_type": "execute_result"
    }
   ],
   "source": [
    "b-2"
   ]
  },
  {
   "cell_type": "code",
   "execution_count": 80,
   "id": "05c91f53",
   "metadata": {},
   "outputs": [
    {
     "data": {
      "text/plain": [
       "array([[2, 4],\n",
       "       [6, 8]])"
      ]
     },
     "execution_count": 80,
     "metadata": {},
     "output_type": "execute_result"
    }
   ],
   "source": [
    "b*2"
   ]
  },
  {
   "cell_type": "code",
   "execution_count": 81,
   "id": "8efdd74d",
   "metadata": {},
   "outputs": [
    {
     "data": {
      "text/plain": [
       "array([[0.5, 1. ],\n",
       "       [1.5, 2. ]])"
      ]
     },
     "execution_count": 81,
     "metadata": {},
     "output_type": "execute_result"
    }
   ],
   "source": [
    "b/2"
   ]
  },
  {
   "cell_type": "code",
   "execution_count": 82,
   "id": "d12615f5",
   "metadata": {},
   "outputs": [
    {
     "data": {
      "text/plain": [
       "array([[ 1,  4],\n",
       "       [ 9, 16]])"
      ]
     },
     "execution_count": 82,
     "metadata": {},
     "output_type": "execute_result"
    }
   ],
   "source": [
    "b**2"
   ]
  },
  {
   "cell_type": "code",
   "execution_count": 83,
   "id": "337461e0",
   "metadata": {},
   "outputs": [
    {
     "data": {
      "text/plain": [
       "array([[ 4,  6],\n",
       "       [ 8, 10]])"
      ]
     },
     "execution_count": 83,
     "metadata": {},
     "output_type": "execute_result"
    }
   ],
   "source": [
    "d = np.array([[3,4],[5,6]])\n",
    "\n",
    "b+d"
   ]
  },
  {
   "cell_type": "code",
   "execution_count": 84,
   "id": "18053c01",
   "metadata": {},
   "outputs": [
    {
     "data": {
      "text/plain": [
       "array([[-2, -2],\n",
       "       [-2, -2]])"
      ]
     },
     "execution_count": 84,
     "metadata": {},
     "output_type": "execute_result"
    }
   ],
   "source": [
    "b-d"
   ]
  },
  {
   "cell_type": "code",
   "execution_count": 85,
   "id": "5e54b405",
   "metadata": {},
   "outputs": [
    {
     "data": {
      "text/plain": [
       "array([[ 3,  8],\n",
       "       [15, 24]])"
      ]
     },
     "execution_count": 85,
     "metadata": {},
     "output_type": "execute_result"
    }
   ],
   "source": [
    "b*d #note: this is NOT matrix multiplication, but component-wise multiplication\n"
   ]
  },
  {
   "cell_type": "code",
   "execution_count": 86,
   "id": "20c3c0a1",
   "metadata": {},
   "outputs": [
    {
     "data": {
      "text/plain": [
       "array([[0.33333333, 0.5       ],\n",
       "       [0.6       , 0.66666667]])"
      ]
     },
     "execution_count": 86,
     "metadata": {},
     "output_type": "execute_result"
    }
   ],
   "source": [
    "b/d"
   ]
  },
  {
   "cell_type": "code",
   "execution_count": 87,
   "id": "ccf756c1",
   "metadata": {},
   "outputs": [
    {
     "data": {
      "text/plain": [
       "array([[   1,   16],\n",
       "       [ 243, 4096]])"
      ]
     },
     "execution_count": 87,
     "metadata": {},
     "output_type": "execute_result"
    }
   ],
   "source": [
    "b**d"
   ]
  },
  {
   "cell_type": "code",
   "execution_count": 88,
   "id": "76803681",
   "metadata": {},
   "outputs": [
    {
     "data": {
      "text/plain": [
       "array([[1, 3],\n",
       "       [2, 4]])"
      ]
     },
     "execution_count": 88,
     "metadata": {},
     "output_type": "execute_result"
    }
   ],
   "source": [
    "#Recall that the transpose of a matrix is when the rows become the columns\n",
    "\n",
    "b.T"
   ]
  },
  {
   "cell_type": "code",
   "execution_count": 89,
   "id": "c6970c8a",
   "metadata": {},
   "outputs": [
    {
     "name": "stdout",
     "output_type": "stream",
     "text": [
      "[1. 2. 3.]\n"
     ]
    }
   ],
   "source": [
    "x = np.array([1, 4, 9])\n",
    "z = np.sqrt(x)\n",
    "print(z)"
   ]
  },
  {
   "cell_type": "code",
   "execution_count": 92,
   "id": "f5926fc8",
   "metadata": {},
   "outputs": [
    {
     "data": {
      "text/plain": [
       "array([False,  True,  True,  True, False])"
      ]
     },
     "execution_count": 92,
     "metadata": {},
     "output_type": "execute_result"
    }
   ],
   "source": [
    "x = np.array([1, 4, 9, 5, 3])\n",
    "y = np.array([0, 5, 8, 4, 5])\n",
    "x>3"
   ]
  },
  {
   "cell_type": "code",
   "execution_count": 93,
   "id": "c4bf216a",
   "metadata": {},
   "outputs": [
    {
     "data": {
      "text/plain": [
       "array([ True, False,  True,  True, False])"
      ]
     },
     "execution_count": 93,
     "metadata": {},
     "output_type": "execute_result"
    }
   ],
   "source": [
    "x > y"
   ]
  },
  {
   "cell_type": "code",
   "execution_count": 95,
   "id": "71f83e1a",
   "metadata": {},
   "outputs": [
    {
     "name": "stdout",
     "output_type": "stream",
     "text": [
      "[4 9 5]\n"
     ]
    }
   ],
   "source": [
    "#We are defining y to be a list containing those elements of x >3\n",
    "\n",
    "y = x[x>3]\n",
    "print(y)"
   ]
  },
  {
   "cell_type": "code",
   "execution_count": 96,
   "id": "fdde4a24",
   "metadata": {},
   "outputs": [
    {
     "name": "stdout",
     "output_type": "stream",
     "text": [
      "[1 0 0 0 3]\n"
     ]
    }
   ],
   "source": [
    "x[x>3] = 0 #I'm defining elements in x greater than 3 to equal 0\n",
    "print(x)"
   ]
  },
  {
   "cell_type": "code",
   "execution_count": null,
   "id": "5553deb1",
   "metadata": {},
   "outputs": [],
   "source": []
  }
 ],
 "metadata": {
  "kernelspec": {
   "display_name": "Python 3 (ipykernel)",
   "language": "python",
   "name": "python3"
  },
  "language_info": {
   "codemirror_mode": {
    "name": "ipython",
    "version": 3
   },
   "file_extension": ".py",
   "mimetype": "text/x-python",
   "name": "python",
   "nbconvert_exporter": "python",
   "pygments_lexer": "ipython3",
   "version": "3.9.13"
  }
 },
 "nbformat": 4,
 "nbformat_minor": 5
}
